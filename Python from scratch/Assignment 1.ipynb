{
 "cells": [
  {
   "cell_type": "markdown",
   "id": "754981b3",
   "metadata": {},
   "source": [
    "### Q1. Create variable age and show your output in string"
   ]
  },
  {
   "cell_type": "code",
   "execution_count": null,
   "id": "56668358",
   "metadata": {},
   "outputs": [],
   "source": [
    "#Your code"
   ]
  },
  {
   "cell_type": "markdown",
   "id": "91e2379b",
   "metadata": {},
   "source": [
    "### Q2. Check datatype of age"
   ]
  },
  {
   "cell_type": "code",
   "execution_count": null,
   "id": "b1d3bdf2",
   "metadata": {},
   "outputs": [],
   "source": [
    "#Your code"
   ]
  },
  {
   "cell_type": "markdown",
   "id": "c4679beb",
   "metadata": {},
   "source": [
    "### Q.3 Take input from user as length and width for calculate the area of rectangle."
   ]
  },
  {
   "cell_type": "code",
   "execution_count": null,
   "id": "ec6ca089",
   "metadata": {},
   "outputs": [],
   "source": [
    "#Your code"
   ]
  },
  {
   "cell_type": "markdown",
   "id": "057789ca",
   "metadata": {},
   "source": [
    "### Q.4 Calculate Area of Square"
   ]
  },
  {
   "cell_type": "code",
   "execution_count": null,
   "id": "1f2342e4",
   "metadata": {},
   "outputs": [],
   "source": [
    "#Your code"
   ]
  },
  {
   "cell_type": "markdown",
   "id": "743c3785",
   "metadata": {},
   "source": [
    "### Q.5 Calculate Area of rectangle"
   ]
  },
  {
   "cell_type": "markdown",
   "id": "259fcc50",
   "metadata": {},
   "source": [
    "### Q.6 Print Area of circle while radius = 7 and the value of Pi = 3.147"
   ]
  },
  {
   "cell_type": "code",
   "execution_count": null,
   "id": "eb7139a7",
   "metadata": {},
   "outputs": [],
   "source": [
    "#Your code"
   ]
  },
  {
   "cell_type": "markdown",
   "id": "65a880eb",
   "metadata": {},
   "source": [
    "### Q.6 What is the diffrence between Area of Square and Primeter of Square"
   ]
  },
  {
   "cell_type": "code",
   "execution_count": null,
   "id": "7dd9bb18",
   "metadata": {},
   "outputs": [],
   "source": [
    "#Your code"
   ]
  },
  {
   "cell_type": "markdown",
   "id": "167de4fe",
   "metadata": {},
   "source": [
    "### Q.7 Show your name in heading 1 style with adding I will master Python, eg is below"
   ]
  },
  {
   "cell_type": "markdown",
   "id": "eb607091",
   "metadata": {},
   "source": [
    "# Durgesh ! I will Master Python "
   ]
  },
  {
   "cell_type": "code",
   "execution_count": 3,
   "id": "fd770950",
   "metadata": {},
   "outputs": [],
   "source": [
    "#Your code"
   ]
  },
  {
   "cell_type": "markdown",
   "id": "b35e16b0",
   "metadata": {},
   "source": [
    "### Q.8 D= Letsbeanalyst.com"
   ]
  },
  {
   "cell_type": "code",
   "execution_count": 9,
   "id": "14aba6a8",
   "metadata": {},
   "outputs": [],
   "source": [
    "D= 'Letsbeanalyst.com'"
   ]
  },
  {
   "cell_type": "code",
   "execution_count": 10,
   "id": "185930c7",
   "metadata": {},
   "outputs": [
    {
     "data": {
      "text/plain": [
       "'sbean'"
      ]
     },
     "execution_count": 10,
     "metadata": {},
     "output_type": "execute_result"
    }
   ],
   "source": [
    "#your code to match below string,remember this code will run only once and your answer will rplace the correct so make sure!\n",
    "\n",
    "\n"
   ]
  },
  {
   "cell_type": "code",
   "execution_count": 13,
   "id": "a4742dc4",
   "metadata": {},
   "outputs": [
    {
     "data": {
      "text/plain": [
       "'moc.tsylanaebsteL'"
      ]
     },
     "execution_count": 13,
     "metadata": {},
     "output_type": "execute_result"
    }
   ],
   "source": [
    "#your code to match below string,remember this code will run only once and your answer will rplace the correct so make sure!\n",
    "\n",
    "\n",
    "\n"
   ]
  },
  {
   "cell_type": "code",
   "execution_count": 18,
   "id": "cb415b2d",
   "metadata": {},
   "outputs": [
    {
     "data": {
      "text/plain": [
       "'.com'"
      ]
     },
     "execution_count": 18,
     "metadata": {},
     "output_type": "execute_result"
    }
   ],
   "source": [
    "#your code to match below string,remember this code will run only once and your answer will rplace the correct so make sure!\n",
    "\n",
    "\n",
    "\n"
   ]
  },
  {
   "cell_type": "markdown",
   "id": "d41514ad",
   "metadata": {},
   "source": [
    "### Q.9 Say your self yes I am not demotivate i'll complete this cource and Master this."
   ]
  },
  {
   "cell_type": "markdown",
   "id": "10440824",
   "metadata": {},
   "source": [
    "Once upon a time, there was a person who aspired to master Python. \n",
    "They began with dedication, putting in consistent effort each day.\n",
    "When they encountered challenges, they reminded themselves of their goal and found motivation to push through. \n",
    "With perseverance and a positive attitude, they eventually became a Python master."
   ]
  },
  {
   "cell_type": "markdown",
   "id": "0c2e90cb",
   "metadata": {},
   "source": [
    "### Q.10 Copy the Q.9 story and mark it as comment"
   ]
  },
  {
   "cell_type": "code",
   "execution_count": 20,
   "id": "731498fa",
   "metadata": {},
   "outputs": [
    {
     "data": {
      "text/plain": [
       "'Once upon a time, there was a person who aspired to master Python. They began with dedication, putting in consistent effort each day. When they encountered challenges, they reminded themselves of their goal and found motivation to push through. With perseverance and a positive attitude, they eventually became a Python master.'"
      ]
     },
     "execution_count": 20,
     "metadata": {},
     "output_type": "execute_result"
    }
   ],
   "source": [
    "#Your code\n",
    "\n",
    "\n",
    "\n",
    "\n"
   ]
  },
  {
   "cell_type": "markdown",
   "id": "1ea77c25",
   "metadata": {},
   "source": [
    "# Open this URL to submit this file"
   ]
  },
  {
   "cell_type": "markdown",
   "id": "e93bb165",
   "metadata": {},
   "source": [
    "url=https://www.letsbeanalyst.com/p/assignment-submission-practice-sql.html"
   ]
  },
  {
   "cell_type": "code",
   "execution_count": null,
   "id": "08f2fb7b",
   "metadata": {},
   "outputs": [],
   "source": []
  }
 ],
 "metadata": {
  "kernelspec": {
   "display_name": "Python 3 (ipykernel)",
   "language": "python",
   "name": "python3"
  },
  "language_info": {
   "codemirror_mode": {
    "name": "ipython",
    "version": 3
   },
   "file_extension": ".py",
   "mimetype": "text/x-python",
   "name": "python",
   "nbconvert_exporter": "python",
   "pygments_lexer": "ipython3",
   "version": "3.9.12"
  }
 },
 "nbformat": 4,
 "nbformat_minor": 5
}
