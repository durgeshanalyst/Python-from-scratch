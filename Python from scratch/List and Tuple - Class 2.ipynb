{
 "cells": [
  {
   "cell_type": "markdown",
   "id": "292f97c0",
   "metadata": {},
   "source": [
    "# List"
   ]
  },
  {
   "cell_type": "code",
   "execution_count": 3,
   "id": "06c938c1",
   "metadata": {},
   "outputs": [],
   "source": [
    "employee_information=['Piyush',66000,'Nayan',67000]"
   ]
  },
  {
   "cell_type": "code",
   "execution_count": 5,
   "id": "de1d9460",
   "metadata": {},
   "outputs": [],
   "source": [
    "employee_information=('Piyush', 45000,'Durgesh' ,455665)"
   ]
  },
  {
   "cell_type": "code",
   "execution_count": 6,
   "id": "d74ca8a3",
   "metadata": {},
   "outputs": [],
   "source": [
    "cource=[]"
   ]
  },
  {
   "cell_type": "code",
   "execution_count": 13,
   "id": "a6b94802",
   "metadata": {},
   "outputs": [],
   "source": [
    "cource_tuple=('beanalystd1',)"
   ]
  },
  {
   "cell_type": "code",
   "execution_count": 14,
   "id": "cde47235",
   "metadata": {},
   "outputs": [
    {
     "data": {
      "text/plain": [
       "'beanalystd1'"
      ]
     },
     "execution_count": 14,
     "metadata": {},
     "output_type": "execute_result"
    }
   ],
   "source": []
  },
  {
   "cell_type": "markdown",
   "id": "70c4caac",
   "metadata": {},
   "source": [
    "## List tuple method"
   ]
  },
  {
   "cell_type": "code",
   "execution_count": 18,
   "id": "5e1fcd1c",
   "metadata": {},
   "outputs": [],
   "source": [
    "list1=['apple',45,'sugar',50,'oil',200]"
   ]
  },
  {
   "cell_type": "code",
   "execution_count": 19,
   "id": "1b839ff5",
   "metadata": {},
   "outputs": [],
   "source": [
    "#slicing"
   ]
  },
  {
   "cell_type": "code",
   "execution_count": 23,
   "id": "ef6a0948",
   "metadata": {},
   "outputs": [
    {
     "data": {
      "text/plain": [
       "['apple', 45, 'sugar', 50, 'oil', 200]"
      ]
     },
     "execution_count": 23,
     "metadata": {},
     "output_type": "execute_result"
    }
   ],
   "source": [
    "list1[0]"
   ]
  },
  {
   "cell_type": "code",
   "execution_count": 22,
   "id": "347da988",
   "metadata": {},
   "outputs": [
    {
     "data": {
      "text/plain": [
       "'sugar'"
      ]
     },
     "execution_count": 22,
     "metadata": {},
     "output_type": "execute_result"
    }
   ],
   "source": [
    "list1[2]"
   ]
  },
  {
   "cell_type": "code",
   "execution_count": 20,
   "id": "38ce52d9",
   "metadata": {},
   "outputs": [],
   "source": [
    "#indexing"
   ]
  },
  {
   "cell_type": "code",
   "execution_count": 25,
   "id": "054e490a",
   "metadata": {},
   "outputs": [
    {
     "data": {
      "text/plain": [
       "['apple', 45, 'sugar', 50, 'oil']"
      ]
     },
     "execution_count": 25,
     "metadata": {},
     "output_type": "execute_result"
    }
   ],
   "source": [
    "list1[0:5]"
   ]
  },
  {
   "cell_type": "code",
   "execution_count": 26,
   "id": "bc817cc9",
   "metadata": {},
   "outputs": [],
   "source": [
    "#Tuple\n",
    "\n",
    "cource_tuple=('beanalystd1',499,'beanalystd2',999)"
   ]
  },
  {
   "cell_type": "code",
   "execution_count": 27,
   "id": "2b5b81b6",
   "metadata": {},
   "outputs": [
    {
     "data": {
      "text/plain": [
       "'beanalystd1'"
      ]
     },
     "execution_count": 27,
     "metadata": {},
     "output_type": "execute_result"
    }
   ],
   "source": [
    "cource_tuple[0]"
   ]
  },
  {
   "cell_type": "code",
   "execution_count": 29,
   "id": "b2c99845",
   "metadata": {},
   "outputs": [
    {
     "data": {
      "text/plain": [
       "'beanalystd2'"
      ]
     },
     "execution_count": 29,
     "metadata": {},
     "output_type": "execute_result"
    }
   ],
   "source": [
    "cource_tuple[2]"
   ]
  },
  {
   "cell_type": "markdown",
   "id": "7b39a46f",
   "metadata": {},
   "source": [
    "### Methods"
   ]
  },
  {
   "cell_type": "code",
   "execution_count": 30,
   "id": "477fd7e5",
   "metadata": {},
   "outputs": [],
   "source": [
    "#list\n",
    "#sort\n",
    "#append\n",
    "#insert\n",
    "#pop\n",
    "#remove\n",
    "#count\n",
    "#reversed\n",
    "#clear\n",
    "#copy"
   ]
  },
  {
   "cell_type": "code",
   "execution_count": 67,
   "id": "0c219679",
   "metadata": {},
   "outputs": [],
   "source": [
    "mark=[2,45,65,85,67,5,9,5]"
   ]
  },
  {
   "cell_type": "code",
   "execution_count": 68,
   "id": "6dbaa343",
   "metadata": {},
   "outputs": [],
   "source": [
    "mark.sort()"
   ]
  },
  {
   "cell_type": "code",
   "execution_count": 69,
   "id": "eaeaa35e",
   "metadata": {},
   "outputs": [
    {
     "data": {
      "text/plain": [
       "[2, 5, 5, 9, 45, 65, 67, 85]"
      ]
     },
     "execution_count": 69,
     "metadata": {},
     "output_type": "execute_result"
    }
   ],
   "source": [
    "mark"
   ]
  },
  {
   "cell_type": "code",
   "execution_count": 80,
   "id": "4a7c8ac4",
   "metadata": {},
   "outputs": [],
   "source": [
    "mark.sort(reverse=True)"
   ]
  },
  {
   "cell_type": "code",
   "execution_count": 81,
   "id": "72b7956c",
   "metadata": {},
   "outputs": [
    {
     "data": {
      "text/plain": [
       "[100, 85, 67, 65, 45, 9, 5, 5]"
      ]
     },
     "execution_count": 81,
     "metadata": {},
     "output_type": "execute_result"
    }
   ],
   "source": [
    "mark"
   ]
  },
  {
   "cell_type": "code",
   "execution_count": 82,
   "id": "a6f6cc75",
   "metadata": {},
   "outputs": [],
   "source": [
    "mark.append(99)"
   ]
  },
  {
   "cell_type": "code",
   "execution_count": 83,
   "id": "b2da7c79",
   "metadata": {},
   "outputs": [],
   "source": [
    "mark.insert(0,100)"
   ]
  },
  {
   "cell_type": "code",
   "execution_count": 90,
   "id": "878fe2b5",
   "metadata": {},
   "outputs": [
    {
     "ename": "IndexError",
     "evalue": "pop index out of range",
     "output_type": "error",
     "traceback": [
      "\u001b[1;31m---------------------------------------------------------------------------\u001b[0m",
      "\u001b[1;31mIndexError\u001b[0m                                Traceback (most recent call last)",
      "Input \u001b[1;32mIn [90]\u001b[0m, in \u001b[0;36m<cell line: 1>\u001b[1;34m()\u001b[0m\n\u001b[1;32m----> 1\u001b[0m \u001b[43mmark\u001b[49m\u001b[38;5;241;43m.\u001b[39;49m\u001b[43mpop\u001b[49m\u001b[43m(\u001b[49m\u001b[38;5;241;43m9\u001b[39;49m\u001b[43m)\u001b[49m\n",
      "\u001b[1;31mIndexError\u001b[0m: pop index out of range"
     ]
    }
   ],
   "source": [
    "mark.pop()"
   ]
  },
  {
   "cell_type": "code",
   "execution_count": 94,
   "id": "870bc824",
   "metadata": {},
   "outputs": [
    {
     "data": {
      "text/plain": [
       "[100, 85, 67, 65, 45, 5, 99]"
      ]
     },
     "execution_count": 94,
     "metadata": {},
     "output_type": "execute_result"
    }
   ],
   "source": [
    "mark"
   ]
  },
  {
   "cell_type": "code",
   "execution_count": 93,
   "id": "49250c3e",
   "metadata": {},
   "outputs": [],
   "source": [
    "mark.remove(5)"
   ]
  },
  {
   "cell_type": "code",
   "execution_count": 98,
   "id": "4cc6e0b7",
   "metadata": {},
   "outputs": [],
   "source": [
    "listw=[1,5,12,1]"
   ]
  },
  {
   "cell_type": "code",
   "execution_count": 96,
   "id": "1666f5fb",
   "metadata": {},
   "outputs": [],
   "source": [
    "listw.remove(1)"
   ]
  },
  {
   "cell_type": "code",
   "execution_count": 97,
   "id": "6d36bbcb",
   "metadata": {},
   "outputs": [
    {
     "data": {
      "text/plain": [
       "[5, 12, 1]"
      ]
     },
     "execution_count": 97,
     "metadata": {},
     "output_type": "execute_result"
    }
   ],
   "source": [
    "listw"
   ]
  },
  {
   "cell_type": "code",
   "execution_count": 99,
   "id": "13eb438c",
   "metadata": {},
   "outputs": [
    {
     "name": "stdout",
     "output_type": "stream",
     "text": [
      "[5, 12, 1]\n"
     ]
    }
   ],
   "source": [
    "for i in listw:\n",
    "    listw.remove(i)\n",
    "    break\n",
    "print(listw)\n",
    "    "
   ]
  },
  {
   "cell_type": "code",
   "execution_count": 100,
   "id": "34f93aa7",
   "metadata": {},
   "outputs": [
    {
     "data": {
      "text/plain": [
       "[5, 12, 1]"
      ]
     },
     "execution_count": 100,
     "metadata": {},
     "output_type": "execute_result"
    }
   ],
   "source": [
    "listw"
   ]
  },
  {
   "cell_type": "code",
   "execution_count": 102,
   "id": "e0b0f40a",
   "metadata": {},
   "outputs": [],
   "source": [
    "listw.reverse()"
   ]
  },
  {
   "cell_type": "code",
   "execution_count": 103,
   "id": "4415fb9f",
   "metadata": {},
   "outputs": [
    {
     "data": {
      "text/plain": [
       "[1, 12, 5]"
      ]
     },
     "execution_count": 103,
     "metadata": {},
     "output_type": "execute_result"
    }
   ],
   "source": [
    "listw"
   ]
  },
  {
   "cell_type": "code",
   "execution_count": null,
   "id": "86539370",
   "metadata": {},
   "outputs": [],
   "source": [
    "0 1 2\n",
    "2 1 0"
   ]
  },
  {
   "cell_type": "code",
   "execution_count": 104,
   "id": "72516c6c",
   "metadata": {},
   "outputs": [
    {
     "data": {
      "text/plain": [
       "[5, 12, 1]"
      ]
     },
     "execution_count": 104,
     "metadata": {},
     "output_type": "execute_result"
    }
   ],
   "source": [
    "listw[::-1]"
   ]
  },
  {
   "cell_type": "code",
   "execution_count": null,
   "id": "3173932b",
   "metadata": {},
   "outputs": [],
   "source": [
    "count\n",
    "index"
   ]
  },
  {
   "cell_type": "code",
   "execution_count": 111,
   "id": "97a530d3",
   "metadata": {},
   "outputs": [],
   "source": [
    "evaluation_marks=(1,5,2,1,2,3,3,3,6,6,6,8,8,88,8,7)"
   ]
  },
  {
   "cell_type": "code",
   "execution_count": 113,
   "id": "06c9dab1",
   "metadata": {},
   "outputs": [
    {
     "data": {
      "text/plain": [
       "2"
      ]
     },
     "execution_count": 113,
     "metadata": {},
     "output_type": "execute_result"
    }
   ],
   "source": [
    "evaluation_marks.count(1)"
   ]
  },
  {
   "cell_type": "code",
   "execution_count": 117,
   "id": "f76bf309",
   "metadata": {},
   "outputs": [
    {
     "data": {
      "text/plain": [
       "13"
      ]
     },
     "execution_count": 117,
     "metadata": {},
     "output_type": "execute_result"
    }
   ],
   "source": [
    "evaluation_marks.index(88)"
   ]
  },
  {
   "cell_type": "code",
   "execution_count": null,
   "id": "9f07ab85",
   "metadata": {},
   "outputs": [],
   "source": [
    "index('Value which is available in tuple')"
   ]
  }
 ],
 "metadata": {
  "kernelspec": {
   "display_name": "Python 3 (ipykernel)",
   "language": "python",
   "name": "python3"
  },
  "language_info": {
   "codemirror_mode": {
    "name": "ipython",
    "version": 3
   },
   "file_extension": ".py",
   "mimetype": "text/x-python",
   "name": "python",
   "nbconvert_exporter": "python",
   "pygments_lexer": "ipython3",
   "version": "3.9.12"
  }
 },
 "nbformat": 4,
 "nbformat_minor": 5
}
