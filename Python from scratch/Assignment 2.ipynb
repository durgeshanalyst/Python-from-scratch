{
 "cells": [
  {
   "cell_type": "markdown",
   "id": "4f571923",
   "metadata": {},
   "source": [
    "### Create list by  name Marks and assign 6 values between 10 to 80 and apply :-"
   ]
  },
  {
   "cell_type": "code",
   "execution_count": 1,
   "id": "1355e98c",
   "metadata": {},
   "outputs": [],
   "source": [
    "#your code"
   ]
  },
  {
   "cell_type": "code",
   "execution_count": null,
   "id": "79d1edb5",
   "metadata": {},
   "outputs": [],
   "source": []
  },
  {
   "cell_type": "code",
   "execution_count": null,
   "id": "f8fc65d7",
   "metadata": {},
   "outputs": [],
   "source": []
  },
  {
   "cell_type": "code",
   "execution_count": null,
   "id": "721a2a86",
   "metadata": {},
   "outputs": [],
   "source": []
  },
  {
   "cell_type": "markdown",
   "id": "896657ce",
   "metadata": {},
   "source": [
    "#### 1.Append-60"
   ]
  },
  {
   "cell_type": "code",
   "execution_count": null,
   "id": "06657485",
   "metadata": {},
   "outputs": [],
   "source": []
  },
  {
   "cell_type": "markdown",
   "id": "0e25b3f8",
   "metadata": {},
   "source": [
    "#### 2. insert 60"
   ]
  },
  {
   "cell_type": "code",
   "execution_count": null,
   "id": "cf7a8554",
   "metadata": {},
   "outputs": [],
   "source": []
  },
  {
   "cell_type": "markdown",
   "id": "906256b0",
   "metadata": {},
   "source": [
    "#### 3.write what your observation on insert and append methods"
   ]
  },
  {
   "cell_type": "code",
   "execution_count": null,
   "id": "99781089",
   "metadata": {},
   "outputs": [],
   "source": []
  },
  {
   "cell_type": "markdown",
   "id": "ded1752e",
   "metadata": {},
   "source": [
    "#### 4. Define Tuple and List"
   ]
  },
  {
   "cell_type": "code",
   "execution_count": null,
   "id": "e2afa0f6",
   "metadata": {},
   "outputs": [],
   "source": []
  },
  {
   "cell_type": "markdown",
   "id": "4871cb31",
   "metadata": {},
   "source": [
    "#### 5. Show practical understanding of list and Tuple"
   ]
  },
  {
   "cell_type": "code",
   "execution_count": null,
   "id": "9807fb39",
   "metadata": {},
   "outputs": [],
   "source": []
  },
  {
   "cell_type": "code",
   "execution_count": 6,
   "id": "0233479d",
   "metadata": {},
   "outputs": [],
   "source": [
    "List=[45,85,69,75,89]"
   ]
  },
  {
   "cell_type": "markdown",
   "id": "24e8e650",
   "metadata": {},
   "source": [
    "# Don't run this cell without your code, other wise answer will disappear"
   ]
  },
  {
   "cell_type": "code",
   "execution_count": 4,
   "id": "920fe67c",
   "metadata": {},
   "outputs": [
    {
     "data": {
      "text/plain": [
       "89"
      ]
     },
     "execution_count": 4,
     "metadata": {},
     "output_type": "execute_result"
    }
   ],
   "source": [
    "#Your code for below answer\n",
    "\n"
   ]
  },
  {
   "cell_type": "code",
   "execution_count": 5,
   "id": "9de972c6",
   "metadata": {},
   "outputs": [
    {
     "data": {
      "text/plain": [
       "89"
      ]
     },
     "execution_count": 5,
     "metadata": {},
     "output_type": "execute_result"
    }
   ],
   "source": [
    "#Hint: Use method not slicing\n",
    "\n"
   ]
  },
  {
   "cell_type": "code",
   "execution_count": 8,
   "id": "1fcca4e3",
   "metadata": {},
   "outputs": [
    {
     "data": {
      "text/plain": [
       "89"
      ]
     },
     "execution_count": 8,
     "metadata": {},
     "output_type": "execute_result"
    }
   ],
   "source": [
    "#Hint: Use slicing not method and indexing\n",
    "\n"
   ]
  }
 ],
 "metadata": {
  "kernelspec": {
   "display_name": "Python 3 (ipykernel)",
   "language": "python",
   "name": "python3"
  },
  "language_info": {
   "codemirror_mode": {
    "name": "ipython",
    "version": 3
   },
   "file_extension": ".py",
   "mimetype": "text/x-python",
   "name": "python",
   "nbconvert_exporter": "python",
   "pygments_lexer": "ipython3",
   "version": "3.9.12"
  }
 },
 "nbformat": 4,
 "nbformat_minor": 5
}
