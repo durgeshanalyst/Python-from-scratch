{
 "cells": [
  {
   "cell_type": "markdown",
   "id": "721d873b",
   "metadata": {},
   "source": [
    "### Welcome to Live class 1"
   ]
  },
  {
   "cell_type": "code",
   "execution_count": null,
   "id": "c3c91873",
   "metadata": {},
   "outputs": [],
   "source": [
    "_a=5\n"
   ]
  },
  {
   "cell_type": "code",
   "execution_count": null,
   "id": "eda81b0c",
   "metadata": {},
   "outputs": [],
   "source": []
  },
  {
   "cell_type": "code",
   "execution_count": null,
   "id": "87fde051",
   "metadata": {},
   "outputs": [],
   "source": []
  },
  {
   "cell_type": "markdown",
   "id": "3e65ab42",
   "metadata": {},
   "source": [
    "##### Variable"
   ]
  },
  {
   "cell_type": "code",
   "execution_count": null,
   "id": "12f7f579",
   "metadata": {},
   "outputs": [],
   "source": []
  },
  {
   "cell_type": "markdown",
   "id": "980f4a11",
   "metadata": {},
   "source": [
    "##### Data Types"
   ]
  },
  {
   "cell_type": "code",
   "execution_count": null,
   "id": "3ac166be",
   "metadata": {},
   "outputs": [],
   "source": [
    "int,float,str,bool,None"
   ]
  },
  {
   "cell_type": "code",
   "execution_count": null,
   "id": "a66f524f",
   "metadata": {},
   "outputs": [],
   "source": [
    "type(age)"
   ]
  },
  {
   "cell_type": "code",
   "execution_count": null,
   "id": "03988b67",
   "metadata": {},
   "outputs": [],
   "source": [
    "a=4+ij"
   ]
  },
  {
   "cell_type": "code",
   "execution_count": null,
   "id": "79a8f226",
   "metadata": {},
   "outputs": [],
   "source": [
    "type(a)"
   ]
  },
  {
   "cell_type": "markdown",
   "id": "f47c4e33",
   "metadata": {},
   "source": [
    "##### Arithmetic Operations"
   ]
  },
  {
   "cell_type": "code",
   "execution_count": null,
   "id": "d7e81e0e",
   "metadata": {},
   "outputs": [],
   "source": [
    "a=5\n",
    "v=6\n",
    "#addition\n",
    "a+v"
   ]
  },
  {
   "cell_type": "code",
   "execution_count": null,
   "id": "d487e442",
   "metadata": {},
   "outputs": [],
   "source": [
    "#subtraction\n",
    "a-v"
   ]
  },
  {
   "cell_type": "code",
   "execution_count": null,
   "id": "b3bad1a8",
   "metadata": {},
   "outputs": [],
   "source": [
    "#multiply\n",
    "a*v"
   ]
  },
  {
   "cell_type": "code",
   "execution_count": null,
   "id": "f028fdfb",
   "metadata": {},
   "outputs": [],
   "source": [
    "#division\n",
    "a/v  #a//v"
   ]
  },
  {
   "cell_type": "code",
   "execution_count": null,
   "id": "ae74a758",
   "metadata": {},
   "outputs": [],
   "source": [
    "#comparisonal operator"
   ]
  },
  {
   "cell_type": "code",
   "execution_count": null,
   "id": "19375357",
   "metadata": {},
   "outputs": [],
   "source": [
    "mini=4\n",
    "piyush=45"
   ]
  },
  {
   "cell_type": "code",
   "execution_count": null,
   "id": "fa6e97a8",
   "metadata": {},
   "outputs": [],
   "source": [
    "mini>>=piyush"
   ]
  },
  {
   "cell_type": "code",
   "execution_count": null,
   "id": "742bc3d1",
   "metadata": {},
   "outputs": [],
   "source": []
  },
  {
   "cell_type": "code",
   "execution_count": null,
   "id": "ea62c469",
   "metadata": {},
   "outputs": [],
   "source": []
  },
  {
   "cell_type": "code",
   "execution_count": null,
   "id": "492f80d9",
   "metadata": {},
   "outputs": [],
   "source": []
  },
  {
   "cell_type": "markdown",
   "id": "70254657",
   "metadata": {},
   "source": [
    "##### String Handling"
   ]
  },
  {
   "cell_type": "code",
   "execution_count": null,
   "id": "d9e16cc8",
   "metadata": {},
   "outputs": [],
   "source": [
    "name='Durgesh kumarasssuh'"
   ]
  },
  {
   "cell_type": "code",
   "execution_count": null,
   "id": "594047e9",
   "metadata": {},
   "outputs": [],
   "source": [
    "name[::-1]"
   ]
  },
  {
   "cell_type": "code",
   "execution_count": null,
   "id": "174394a3",
   "metadata": {},
   "outputs": [],
   "source": [
    "name.count(' ')"
   ]
  },
  {
   "cell_type": "markdown",
   "id": "95b01309",
   "metadata": {},
   "source": [
    "#### Type function and Type casting"
   ]
  },
  {
   "cell_type": "code",
   "execution_count": null,
   "id": "852f6a90",
   "metadata": {},
   "outputs": [],
   "source": [
    "a=8"
   ]
  },
  {
   "cell_type": "code",
   "execution_count": null,
   "id": "ae379b45",
   "metadata": {},
   "outputs": [],
   "source": [
    "a=float(a)"
   ]
  },
  {
   "cell_type": "code",
   "execution_count": null,
   "id": "d0def91b",
   "metadata": {},
   "outputs": [],
   "source": []
  },
  {
   "cell_type": "code",
   "execution_count": null,
   "id": "5e21babb",
   "metadata": {},
   "outputs": [],
   "source": []
  },
  {
   "cell_type": "markdown",
   "id": "905b8406",
   "metadata": {},
   "source": [
    "#### one Magic thing"
   ]
  },
  {
   "cell_type": "code",
   "execution_count": null,
   "id": "a9bdeb91",
   "metadata": {},
   "outputs": [],
   "source": [
    "mobile=int(input('Enter your age '))"
   ]
  },
  {
   "cell_type": "code",
   "execution_count": null,
   "id": "b9384520",
   "metadata": {},
   "outputs": [],
   "source": [
    "type(mobile)"
   ]
  },
  {
   "cell_type": "code",
   "execution_count": null,
   "id": "87413986",
   "metadata": {},
   "outputs": [],
   "source": []
  },
  {
   "cell_type": "markdown",
   "id": "6ca73f7f",
   "metadata": {},
   "source": [
    "### Little project"
   ]
  },
  {
   "cell_type": "code",
   "execution_count": 3,
   "id": "a6705a5e",
   "metadata": {},
   "outputs": [
    {
     "name": "stdout",
     "output_type": "stream",
     "text": [
      "Enter your weight 55\n",
      "Enter your height 161\n"
     ]
    }
   ],
   "source": [
    "weight=int(input('Enter your weight '))\n",
    "height=int(input('Enter your height '))"
   ]
  },
  {
   "cell_type": "code",
   "execution_count": 4,
   "id": "c6bd6936",
   "metadata": {},
   "outputs": [],
   "source": [
    "BMI=weight/height**2"
   ]
  },
  {
   "cell_type": "code",
   "execution_count": 5,
   "id": "9a7c1d5a",
   "metadata": {},
   "outputs": [
    {
     "data": {
      "text/plain": [
       "0.0021218317194552677"
      ]
     },
     "execution_count": 5,
     "metadata": {},
     "output_type": "execute_result"
    }
   ],
   "source": [
    "BMI"
   ]
  },
  {
   "cell_type": "code",
   "execution_count": 7,
   "id": "b0184e42",
   "metadata": {},
   "outputs": [],
   "source": [
    "bmi=5"
   ]
  },
  {
   "cell_type": "code",
   "execution_count": 8,
   "id": "89c7d15d",
   "metadata": {},
   "outputs": [
    {
     "data": {
      "text/plain": [
       "5"
      ]
     },
     "execution_count": 8,
     "metadata": {},
     "output_type": "execute_result"
    }
   ],
   "source": [
    "bmi"
   ]
  },
  {
   "cell_type": "code",
   "execution_count": null,
   "id": "51ecbf1e",
   "metadata": {},
   "outputs": [],
   "source": []
  }
 ],
 "metadata": {
  "kernelspec": {
   "display_name": "Python 3 (ipykernel)",
   "language": "python",
   "name": "python3"
  },
  "language_info": {
   "codemirror_mode": {
    "name": "ipython",
    "version": 3
   },
   "file_extension": ".py",
   "mimetype": "text/x-python",
   "name": "python",
   "nbconvert_exporter": "python",
   "pygments_lexer": "ipython3",
   "version": "3.9.12"
  }
 },
 "nbformat": 4,
 "nbformat_minor": 5
}
